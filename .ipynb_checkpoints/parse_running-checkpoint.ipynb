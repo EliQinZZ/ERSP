{
 "cells": [
  {
   "cell_type": "code",
   "execution_count": 1,
   "metadata": {
    "collapsed": true
   },
   "outputs": [],
   "source": [
    "import gzip\n",
    "import os\n",
    "import time\n",
    "import datetime\n",
    "import random"
   ]
  },
  {
   "cell_type": "code",
   "execution_count": 2,
   "metadata": {
    "collapsed": true
   },
   "outputs": [],
   "source": [
    "#The output file, which, in this case, is run file\n",
    "zout = gzip.open('run.json.gz', 'wb')"
   ]
  },
  {
   "cell_type": "code",
   "execution_count": null,
   "metadata": {
    "collapsed": true
   },
   "outputs": [],
   "source": [
    "#The input file\n",
    "z = gzip.open(\"endomondoHR.json.gz\", 'r')\n",
    "\n",
    "#Iterate through all the lines to grab running data\n",
    "for l in z:\n",
    "    l = l.decode('ascii')\n",
    "    dic = eval(l)\n",
    "    if 'sport' in dic:\n",
    "        if(l['sport']='run'):\n",
    "            zout.write(bytes(str(d1) + '\\n', 'ascii'))\n",
    "    break"
   ]
  }
 ],
 "metadata": {
  "anaconda-cloud": {},
  "kernelspec": {
   "display_name": "Python [default]",
   "language": "python",
   "name": "python3"
  },
  "language_info": {
   "codemirror_mode": {
    "name": "ipython",
    "version": 3
   },
   "file_extension": ".py",
   "mimetype": "text/x-python",
   "name": "python",
   "nbconvert_exporter": "python",
   "pygments_lexer": "ipython3",
   "version": "3.5.2"
  }
 },
 "nbformat": 4,
 "nbformat_minor": 1
}
