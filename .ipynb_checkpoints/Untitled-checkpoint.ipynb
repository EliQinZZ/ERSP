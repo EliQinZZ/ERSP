{
 "cells": [
  {
   "cell_type": "code",
   "execution_count": 4,
   "metadata": {
    "collapsed": true
   },
   "outputs": [],
   "source": [
    "import gzip\n",
    "import numpy as np\n",
    "import plot\n",
    "import matplotlib.pyplot as plt"
   ]
  },
  {
   "cell_type": "code",
   "execution_count": 5,
   "metadata": {
    "collapsed": false,
    "scrolled": false
   },
   "outputs": [],
   "source": [
    "f = gzip.open('endomondoHR.json.gz', 'r')"
   ]
  },
  {
   "cell_type": "code",
   "execution_count": 6,
   "metadata": {
    "collapsed": false,
    "scrolled": true
   },
   "outputs": [
    {
     "name": "stdout",
     "output_type": "stream",
     "text": [
      "1 run\n",
      "2 run\n",
      "3 run\n",
      "4 run\n",
      "5 run\n",
      "6 run\n",
      "7 run\n",
      "8 run\n",
      "9 run\n",
      "10 run\n",
      "11 run\n",
      "12 run\n"
     ]
    },
    {
     "name": "stderr",
     "output_type": "stream",
     "text": [
      "/Users/zz/anaconda/lib/python3.5/site-packages/numpy/lib/function_base.py:2569: RuntimeWarning: invalid value encountered in true_divide\n",
      "  c /= stddev[:, None]\n",
      "/Users/zz/anaconda/lib/python3.5/site-packages/numpy/lib/function_base.py:2570: RuntimeWarning: invalid value encountered in true_divide\n",
      "  c /= stddev[None, :]\n"
     ]
    },
    {
     "name": "stdout",
     "output_type": "stream",
     "text": [
      "13 run\n",
      "14 run\n",
      "15 run\n",
      "16 run\n",
      "17 run\n",
      "18 run\n",
      "19 run\n",
      "20 run\n",
      "21 run\n",
      "22 run\n",
      "23 run\n",
      "24 run\n",
      "25 run\n",
      "26 run\n",
      "27 run\n",
      "28 run\n",
      "29 run\n",
      "30 run\n",
      "31 run\n",
      "32 run\n",
      "33 run\n",
      "34 run\n",
      "35 run\n",
      "36 run\n",
      "37 run\n",
      "38 run\n",
      "39 run\n",
      "40 run\n",
      "41 run\n",
      "42 run\n",
      "43 run\n",
      "44 run\n",
      "45 run\n",
      "46 run\n",
      "47 run\n",
      "48 run\n",
      "49 run\n",
      "50 run\n",
      "51 run\n",
      "52 run\n",
      "53 run\n",
      "54 run\n",
      "55 run\n",
      "56 run\n",
      "57 run\n",
      "58 run\n",
      "59 run\n",
      "60 run\n",
      "61 run\n",
      "62 run\n",
      "63 run\n",
      "64 run\n",
      "65 run\n",
      "66 run\n",
      "67 run\n",
      "68 run\n",
      "69 run\n",
      "70 run\n",
      "71 run\n",
      "72 run\n",
      "73 run\n",
      "74 run\n",
      "75 run\n",
      "76 run\n",
      "77 run\n",
      "78 run\n",
      "79 run\n",
      "80 run\n",
      "81 run\n",
      "82 run\n",
      "83 run\n",
      "84 run\n",
      "85 run\n",
      "86 run\n",
      "87 run\n",
      "88 run\n",
      "89 run\n",
      "90 run\n",
      "91 run\n",
      "92 run\n",
      "93 run\n",
      "94 run\n",
      "95 run\n",
      "96 run\n",
      "97 run\n",
      "98 run\n",
      "99 run\n",
      "100 run\n",
      "101 run\n",
      "102 run\n",
      "103 run\n",
      "104 run\n",
      "105 run\n",
      "106 run\n",
      "107 run\n",
      "108 run\n",
      "109 run\n",
      "110 run\n",
      "111 run\n",
      "112 run\n",
      "113 run\n",
      "114 run\n",
      "115 run\n",
      "116 run\n",
      "117 run\n",
      "118 run\n",
      "119 run\n",
      "120 run\n",
      "121 run\n",
      "122 run\n",
      "123 run\n",
      "124 run\n",
      "125 run\n",
      "126 run\n",
      "127 run\n",
      "128 run\n",
      "129 run\n",
      "130 run\n",
      "131 run\n",
      "132 run\n",
      "133 run\n",
      "134 run\n",
      "135 run\n",
      "136 run\n",
      "137 run\n",
      "138 run\n",
      "139 run\n",
      "140 run\n",
      "141 run\n",
      "142 run\n",
      "143 run\n",
      "144 run\n",
      "145 run\n",
      "146 run\n",
      "147 run\n",
      "148 run\n",
      "149 run\n",
      "150 run\n",
      "151 run\n",
      "152 run\n",
      "153 run\n",
      "154 run\n",
      "155 run\n",
      "156 run\n",
      "157 run\n",
      "158 run\n",
      "159 run\n",
      "160 run\n",
      "161 run\n",
      "162 run\n",
      "163 run\n"
     ]
    },
    {
     "ename": "KeyboardInterrupt",
     "evalue": "",
     "output_type": "error",
     "traceback": [
      "\u001b[0;31m---------------------------------------------------------------------------\u001b[0m",
      "\u001b[0;31mKeyboardInterrupt\u001b[0m                         Traceback (most recent call last)",
      "\u001b[0;32m<ipython-input-6-a59499904de2>\u001b[0m in \u001b[0;36m<module>\u001b[0;34m()\u001b[0m\n\u001b[1;32m      4\u001b[0m \u001b[0;34m\u001b[0m\u001b[0m\n\u001b[1;32m      5\u001b[0m \u001b[0;32mfor\u001b[0m \u001b[0ml\u001b[0m \u001b[0;32min\u001b[0m \u001b[0mf\u001b[0m\u001b[0;34m:\u001b[0m\u001b[0;34m\u001b[0m\u001b[0m\n\u001b[0;32m----> 6\u001b[0;31m     \u001b[0muser\u001b[0m \u001b[0;34m=\u001b[0m \u001b[0meval\u001b[0m\u001b[0;34m(\u001b[0m\u001b[0ml\u001b[0m\u001b[0;34m)\u001b[0m\u001b[0;34m\u001b[0m\u001b[0m\n\u001b[0m\u001b[1;32m      7\u001b[0m     \u001b[0;32mif\u001b[0m\u001b[0;34m(\u001b[0m\u001b[0muser\u001b[0m\u001b[0;34m[\u001b[0m\u001b[0;34m'sport'\u001b[0m\u001b[0;34m]\u001b[0m \u001b[0;34m!=\u001b[0m \u001b[0;34m'run'\u001b[0m\u001b[0;34m)\u001b[0m\u001b[0;34m:\u001b[0m\u001b[0;34m\u001b[0m\u001b[0m\n\u001b[1;32m      8\u001b[0m         \u001b[0;32mcontinue\u001b[0m\u001b[0;34m\u001b[0m\u001b[0m\n",
      "\u001b[0;32m<string>\u001b[0m in \u001b[0;36m<module>\u001b[0;34m()\u001b[0m\n",
      "\u001b[0;31mKeyboardInterrupt\u001b[0m: "
     ]
    }
   ],
   "source": [
    "i = 0\n",
    "altitudeChanges = []\n",
    "averageHRs = []\n",
    "\n",
    "for l in f:\n",
    "    user = eval(l)\n",
    "    if(user['sport'] != 'run'):\n",
    "        continue\n",
    "    if 'altitude' not in user:\n",
    "        continue\n",
    "    \n",
    "    timestamp = user['timestamp']\n",
    "    altitude = user['altitude']    \n",
    "    \n",
    "    if(len(altitude) < 2):\n",
    "        continue\n",
    "    if(len(altitude) != len(timestamp)):\n",
    "        continue\n",
    "        \n",
    "\n",
    "\n",
    "    regression = np.polyfit(timestamp, altitude, 1)[0]\n",
    "    r = np.corrcoef(timestamp, altitude)[0,1]\n",
    "        \n",
    "    if(abs(r) < 0.8):\n",
    "        continue\n",
    "        \n",
    "    #print(regression, r, user['id'], user['userId'])\n",
    "    \n",
    "    altitudeChanges.append(regression)\n",
    "    averageHRs.append(np.average(user['heart_rate']))\n",
    "    i += 1\n",
    "    print(i, user['sport'])\n",
    "            \n",
    "    if(i == 1000):\n",
    "        break"
   ]
  },
  {
   "cell_type": "markdown",
   "metadata": {
    "collapsed": true
   },
   "source": []
  },
  {
   "cell_type": "code",
   "execution_count": 20,
   "metadata": {
    "collapsed": false
   },
   "outputs": [
    {
     "data": {
      "image/png": "[encoded data removed]",
      "text/plain": [
       "<matplotlib.figure.Figure at 0x1114398d0>"
      ]
     },
     "metadata": {},
     "output_type": "display_data"
    }
   ],
   "source": [
    "plt.plot(altitudeChanges, averageHRs, 'go')\n",
    "plt.xlim((-0.2, 0.2))\n",
    "plt.ylim((-100, 600))\n",
    "plt.show()"
   ]
  },
  {
   "cell_type": "code",
   "execution_count": 22,
   "metadata": {
    "collapsed": false
   },
   "outputs": [
    {
     "name": "stdout",
     "output_type": "stream",
     "text": [
      "6.85197122664 0.0431758809493\n"
     ]
    }
   ],
   "source": [
    "    regression = np.polyfit(altitudeChanges, averageHRs, 1)[0]\n",
    "    r = np.corrcoef(altitudeChanges, averageHRs)[0,1]\n",
    "    print(regression, r)"
   ]
  },
  {
   "cell_type": "code",
   "execution_count": null,
   "metadata": {
    "collapsed": false
   },
   "outputs": [],
   "source": []
  },
  {
   "cell_type": "code",
   "execution_count": null,
   "metadata": {
    "collapsed": true
   },
   "outputs": [],
   "source": []
  }
 ],
 "metadata": {
  "anaconda-cloud": {},
  "kernelspec": {
   "display_name": "Python [default]",
   "language": "python",
   "name": "python3"
  },
  "language_info": {
   "codemirror_mode": {
    "name": "ipython",
    "version": 3
   },
   "file_extension": ".py",
   "mimetype": "text/x-python",
   "name": "python",
   "nbconvert_exporter": "python",
   "pygments_lexer": "ipython3",
   "version": "3.5.2"
  }
 },
 "nbformat": 4,
 "nbformat_minor": 1
}
